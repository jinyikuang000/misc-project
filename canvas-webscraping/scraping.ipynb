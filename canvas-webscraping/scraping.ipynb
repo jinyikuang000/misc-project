{
 "cells": [
  {
   "cell_type": "code",
   "execution_count": 10,
   "metadata": {},
   "outputs": [],
   "source": [
    "#!/usr/bin/python3.7.0\n",
    "# -*- coding: utf-8 -*-\n",
    "__author__ = \"Jinyi Kuang\"\n",
    "__email__ = \"jkuang000@sas.upenn.edu\"\n",
    "__version__ = \"1.0.1\"\n",
    "__date__ = \"2019-02-19\"\n"
   ]
  },
  {
   "cell_type": "code",
   "execution_count": 11,
   "metadata": {},
   "outputs": [
    {
     "data": {
      "text/plain": [
       "'\\ndiv id = \\'discussion_subentries\\'\\nul class = \"discussion-entries\"\\nli class = \"entry\" or li class = \"entry no-replies\"\\ndiv class = \"entry-content\"\\n    h2 class = \\'discussion-title\\'\\na data-bypass title = \\'Author\\'s name\\'\\n\\n    div data-bind = \"message\"\\n'"
      ]
     },
     "execution_count": 11,
     "metadata": {},
     "output_type": "execute_result"
    }
   ],
   "source": [
    "\"\"\"\n",
    "div id = 'discussion_subentries'\n",
    "ul class = \"discussion-entries\"\n",
    "li class = \"entry\" or li class = \"entry no-replies\"\n",
    "div class = \"entry-content\"\n",
    "    h2 class = 'discussion-title'\n",
    "a data-bypass title = 'Author's name'\n",
    "\n",
    "    div data-bind = \"message\"\n",
    "\"\"\"\n"
   ]
  },
  {
   "cell_type": "code",
   "execution_count": 25,
   "metadata": {},
   "outputs": [],
   "source": [
    "#%%\n",
    "import time\n",
    "import requests\n",
    "import urllib.request\n",
    "from bs4 import BeautifulSoup\n",
    "\n",
    "import csv\n",
    "from datetime import datetime"
   ]
  },
  {
   "cell_type": "code",
   "execution_count": 30,
   "metadata": {},
   "outputs": [],
   "source": [
    "# specify the url\n",
    "quote_page ='https://canvas.upenn.edu/courses/1438746/discussion_topics/5167792.html'\n",
    "jan29 = 'https://canvas.upenn.edu/courses/1438746/discussion_topics/5167792'\n",
    "\n",
    "# query the website \n",
    "page = requests.get(quote_page)\n",
    "\n",
    "# parse the html \n",
    "soup = BeautifulSoup(page.text, 'html.parser')\n"
   ]
  },
  {
   "cell_type": "code",
   "execution_count": 34,
   "metadata": {},
   "outputs": [
    {
     "ename": "AttributeError",
     "evalue": "'NoneType' object has no attribute 'text'",
     "output_type": "error",
     "traceback": [
      "\u001b[0;31m---------------------------------------------------------------------------\u001b[0m",
      "\u001b[0;31mAttributeError\u001b[0m                            Traceback (most recent call last)",
      "\u001b[0;32m<ipython-input-34-d62f2a8ba970>\u001b[0m in \u001b[0;36m<module>\u001b[0;34m\u001b[0m\n\u001b[1;32m      2\u001b[0m \u001b[0;31m# get student name\u001b[0m\u001b[0;34m\u001b[0m\u001b[0;34m\u001b[0m\u001b[0m\n\u001b[1;32m      3\u001b[0m \u001b[0mstudent_name_box\u001b[0m \u001b[0;34m=\u001b[0m \u001b[0msoup\u001b[0m\u001b[0;34m.\u001b[0m\u001b[0mfind\u001b[0m\u001b[0;34m(\u001b[0m\u001b[0;34m'a'\u001b[0m\u001b[0;34m,\u001b[0m \u001b[0mattrs\u001b[0m \u001b[0;34m=\u001b[0m \u001b[0;34m{\u001b[0m\u001b[0;34m'class'\u001b[0m\u001b[0;34m:\u001b[0m\u001b[0;34m'author student_context_card_trigger'\u001b[0m\u001b[0;34m}\u001b[0m\u001b[0;34m)\u001b[0m\u001b[0;34m\u001b[0m\u001b[0m\n\u001b[0;32m----> 4\u001b[0;31m \u001b[0mstudent_name\u001b[0m \u001b[0;34m=\u001b[0m \u001b[0mstudent_name_box\u001b[0m\u001b[0;34m.\u001b[0m\u001b[0mtext\u001b[0m\u001b[0;34m\u001b[0m\u001b[0m\n\u001b[0m\u001b[1;32m      5\u001b[0m \u001b[0;34m\u001b[0m\u001b[0m\n\u001b[1;32m      6\u001b[0m \u001b[0;31m# get input\u001b[0m\u001b[0;34m\u001b[0m\u001b[0;34m\u001b[0m\u001b[0m\n",
      "\u001b[0;31mAttributeError\u001b[0m: 'NoneType' object has no attribute 'text'"
     ]
    }
   ],
   "source": [
    "\n",
    "# get student name\n",
    "student_name_box = soup.find('a', attrs = {'class':'author student_context_card_trigger'})\n",
    "student_name = student_name_box.text\n",
    "\n",
    "# get input \n",
    "student_input_box = soup.find('div', attrs = {\"calss\" : \"message user_content enhanced\"})\n",
    "student_input = student_input_box.text()\n",
    "\n",
    "# save the data in tuple\n",
    "data.append((student_name, student_name))\n",
    "\n",
    "# open a csv file with append, so old data will not be erased\n",
    "with open('index.csv', 'a') as csv_file:\n",
    " writer = csv.writer(csv_file)\n",
    " writer.writerow([student_id, student_name, datetime.now()])"
   ]
  },
  {
   "cell_type": "code",
   "execution_count": 37,
   "metadata": {},
   "outputs": [
    {
     "name": "stdout",
     "output_type": "stream",
     "text": [
      "None\n"
     ]
    }
   ],
   "source": [
    "student_name_box = soup.find('a', attrs = {'class':'author student_context_card_trigger'})\n",
    "print(student_name_box)"
   ]
  },
  {
   "cell_type": "code",
   "execution_count": null,
   "metadata": {},
   "outputs": [],
   "source": []
  }
 ],
 "metadata": {
  "kernelspec": {
   "display_name": "Python 3",
   "language": "python",
   "name": "python3"
  },
  "language_info": {
   "codemirror_mode": {
    "name": "ipython",
    "version": 3
   },
   "file_extension": ".py",
   "mimetype": "text/x-python",
   "name": "python",
   "nbconvert_exporter": "python",
   "pygments_lexer": "ipython3",
   "version": "3.6.0"
  }
 },
 "nbformat": 4,
 "nbformat_minor": 2
}
