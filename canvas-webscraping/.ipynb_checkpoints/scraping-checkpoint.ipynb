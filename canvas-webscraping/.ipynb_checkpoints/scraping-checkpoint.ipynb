{
 "cells": [
  {
   "cell_type": "code",
   "execution_count": 10,
   "metadata": {},
   "outputs": [],
   "source": [
    "#!/usr/bin/python3.7.0\n",
    "# -*- coding: utf-8 -*-\n",
    "__author__ = \"Jinyi Kuang\"\n",
    "__email__ = \"jkuang000@sas.upenn.edu\"\n",
    "__version__ = \"1.0.1\"\n",
    "__date__ = \"2019-02-19\"\n"
   ]
  },
  {
   "cell_type": "code",
   "execution_count": 11,
   "metadata": {},
   "outputs": [
    {
     "data": {
      "text/plain": [
       "'\\ndiv id = \\'discussion_subentries\\'\\nul class = \"discussion-entries\"\\nli class = \"entry\" or li class = \"entry no-replies\"\\ndiv class = \"entry-content\"\\n    h2 class = \\'discussion-title\\'\\na data-bypass title = \\'Author\\'s name\\'\\n\\n    div data-bind = \"message\"\\n'"
      ]
     },
     "execution_count": 11,
     "metadata": {},
     "output_type": "execute_result"
    }
   ],
   "source": [
    "\"\"\"\n",
    "div id = 'discussion_subentries'\n",
    "ul class = \"discussion-entries\"\n",
    "li class = \"entry\" or li class = \"entry no-replies\"\n",
    "div class = \"entry-content\"\n",
    "    h2 class = 'discussion-title'\n",
    "a data-bypass title = 'Author's name'\n",
    "\n",
    "    div data-bind = \"message\"\n",
    "\"\"\"\n"
   ]
  },
  {
   "cell_type": "code",
   "execution_count": 17,
   "metadata": {},
   "outputs": [],
   "source": [
    "#%%\n",
    "import time\n",
    "import requests\n",
    "import urllib\n",
    "from bs4 import BeautifulSoup\n",
    "\n",
    "import csv\n",
    "from datetime import datetime"
   ]
  },
  {
   "cell_type": "code",
   "execution_count": 20,
   "metadata": {},
   "outputs": [
    {
     "ename": "SyntaxError",
     "evalue": "invalid character in identifier (<ipython-input-20-4a3d50bf4772>, line 9)",
     "output_type": "error",
     "traceback": [
      "\u001b[0;36m  File \u001b[0;32m\"<ipython-input-20-4a3d50bf4772>\"\u001b[0;36m, line \u001b[0;32m9\u001b[0m\n\u001b[0;31m    soup = BeautifulSoup(page, ‘html.parser’)\u001b[0m\n\u001b[0m                                   ^\u001b[0m\n\u001b[0;31mSyntaxError\u001b[0m\u001b[0;31m:\u001b[0m invalid character in identifier\n"
     ]
    }
   ],
   "source": [
    "# specify the url\n",
    "quote_page ='https://canvas.upenn.edu/courses/1438746/discussion_topics/5167792.html'\n",
    "jan29 = 'https://canvas.upenn.edu/courses/1438746/discussion_topics/5167792'\n",
    "\n",
    "# query the website \n",
    "page = urllib.urlopen(quote_page)\n",
    "\n",
    "# parse the html \n",
    "soup = BeautifulSoup(page, ‘html.parser’)\n",
    "\n",
    "# get student id\n",
    "student_id_box = soup.find('a', attrs = {'class':'author student_context_card_trigger'})\n",
    "student_id = student_id.text\n",
    "\n",
    "# get student name\n",
    "student_name_box = soup.find('a', attrs = 'data-bypass title' = 'Author's name)\n",
    "student_name = student_name_box.text.strip()\n",
    "\n",
    "# save the data in tuple\n",
    " data.append((student_id, student_name))\n",
    "\n",
    "# open a csv file with append, so old data will not be erased\n",
    "with open(‘index.csv’, ‘a’) as csv_file:\n",
    " writer = csv.writer(csv_file)\n",
    " writer.writerow([student_id, student_name, datetime.now()])"
   ]
  },
  {
   "cell_type": "code",
   "execution_count": null,
   "metadata": {},
   "outputs": [],
   "source": []
  }
 ],
 "metadata": {
  "kernelspec": {
   "display_name": "Python 3",
   "language": "python",
   "name": "python3"
  },
  "language_info": {
   "codemirror_mode": {
    "name": "ipython",
    "version": 3
   },
   "file_extension": ".py",
   "mimetype": "text/x-python",
   "name": "python",
   "nbconvert_exporter": "python",
   "pygments_lexer": "ipython3",
   "version": "3.6.0"
  }
 },
 "nbformat": 4,
 "nbformat_minor": 2
}
